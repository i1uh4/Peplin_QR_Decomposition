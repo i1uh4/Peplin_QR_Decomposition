{
 "cells": [
  {
   "cell_type": "code",
   "execution_count": 5,
   "id": "b7c12573",
   "metadata": {
    "scrolled": true
   },
   "outputs": [
    {
     "name": "stdout",
     "output_type": "stream",
     "text": [
      "[17.509+0.542j  5.703+0.223j -3.212+0.235j]\n"
     ]
    }
   ],
   "source": [
    "import numpy as np\n",
    "\n",
    "np.set_printoptions(precision = 3)\n",
    "\n",
    "# A = np.array([[5., -1., -1.],\n",
    "#              [0., 4., -1.],\n",
    "#              [0, -1., 4.]])\n",
    "\n",
    "# A = np.array([[-4, -2, -7, 8],\n",
    "#              [2, 7,  4, 9],\n",
    "#              [2, 0, 6, -3],\n",
    "#              [6, 4, -10, -4]])\n",
    "\n",
    "# A = np.array([[4, 1, 1, 2, 1], \n",
    "#              [1, 2, -1, 1, 1],\n",
    "#              [3, 1, 1, 1, 1],\n",
    "#              [2, 1, 1, 4, 1],\n",
    "#              [2, -1, 1, 1, 5]])\n",
    "\n",
    "# A = np.array([[complex(10,1), complex(4,0), complex(8,0)],\n",
    "#              [complex(1,0), complex(7,0), complex(4,0)],\n",
    "#              [complex(9,0), complex(5,0), complex(3,0)]])\n",
    "\n",
    "def qr_decomi(R):\n",
    "    m, n = R.shape\n",
    "    Q = np.eye(m, dtype = complex)\n",
    "    for i in range(n - (m == n)):\n",
    "        H = np.eye(m, dtype = complex)\n",
    "        H[i:, i:] = House(R[i:, i])\n",
    "        Q = Q @ H\n",
    "        R = H @ R\n",
    "    return Q, R\n",
    "\n",
    "def House(A):\n",
    "    e = np.zeros(A.shape[0], dtype = complex)\n",
    "    e[0] = 1\n",
    "    if (A[0] < 0):\n",
    "        norm = -(np.linalg.norm(A) * e[:, None])\n",
    "    else:\n",
    "        norm = np.linalg.norm(A) * e[:, None]\n",
    "    u = A[:, None] + norm\n",
    "    v = u / np.linalg.norm(u)\n",
    "    I = np.eye(A.shape[0], dtype = complex)\n",
    "    H = I - ((2 * np.matmul(u, np.transpose(u))) / np.matmul(np.transpose(u), u))\n",
    "    return H\n",
    "\n",
    "n = A.shape[0]\n",
    "k = 0\n",
    "eps = 1e-20\n",
    "for i in range(n):\n",
    "    Q, R = qr_decomi(A)\n",
    "    A = np.dot(R, Q)\n",
    "    while (np.linalg.det(A - A[i] * np.eye(n)) > eps):\n",
    "        Q, R = qr_decomi(A)\n",
    "        A = np.dot(R, Q)\n",
    "    k += 1\n",
    "    if (k == n):\n",
    "        break\n",
    "print(np.diag(A))"
   ]
  },
  {
   "cell_type": "code",
   "execution_count": 4,
   "id": "b9eb40e6",
   "metadata": {},
   "outputs": [
    {
     "name": "stdout",
     "output_type": "stream",
     "text": [
      "[17.525+0.j  5.699+0.j -3.224+0.j]\n"
     ]
    }
   ],
   "source": [
    "n = A.shape[0]\n",
    "k = 0\n",
    "eps = 1e-20\n",
    "for i in range(n):\n",
    "    Q, R = np.linalg.qr(A)\n",
    "    A = np.dot(R, Q)\n",
    "    while (np.linalg.det(A - A[i] * np.eye(n)) > eps):\n",
    "        Q, R = np.linalg.qr(A)\n",
    "        A = np.dot(R, Q)\n",
    "    k += 1\n",
    "    if (k == n):\n",
    "        break\n",
    "print(np.diag(A))"
   ]
  },
  {
   "cell_type": "code",
   "execution_count": null,
   "id": "c4b62f4d",
   "metadata": {},
   "outputs": [],
   "source": []
  }
 ],
 "metadata": {
  "kernelspec": {
   "display_name": "Python 3 (ipykernel)",
   "language": "python",
   "name": "python3"
  },
  "language_info": {
   "codemirror_mode": {
    "name": "ipython",
    "version": 3
   },
   "file_extension": ".py",
   "mimetype": "text/x-python",
   "name": "python",
   "nbconvert_exporter": "python",
   "pygments_lexer": "ipython3",
   "version": "3.10.4"
  }
 },
 "nbformat": 4,
 "nbformat_minor": 5
}
