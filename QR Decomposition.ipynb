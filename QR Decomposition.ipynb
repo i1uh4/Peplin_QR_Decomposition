{
 "cells": [
  {
   "cell_type": "code",
   "execution_count": 13,
   "id": "b7c12573",
   "metadata": {
    "scrolled": true
   },
   "outputs": [
    {
     "name": "stdout",
     "output_type": "stream",
     "text": [
      "[[6.931+159.539j 0.     +0.j    0.     +0.j   ]\n",
      " [0.     +0.j    7.429-147.719j 0.     +0.j   ]\n",
      " [0.     +0.j    0.     +0.j    5.64   -4.82j ]]\n"
     ]
    }
   ],
   "source": [
    "import numpy as np\n",
    "\n",
    "# A = np.array([[5., -1., -1.],\n",
    "#              [0., 4., -1.],\n",
    "#              [0, -1., 4.]])\n",
    "\n",
    "# A = np.array([[-1., -6.],\n",
    "#              [2., 6.]])\n",
    "\n",
    "A = np.array([[3. + 3j, -5. + 0j, -1. + 7j],\n",
    "             [8. + 0j, 4. + 4j, -1. + 0j],\n",
    "             [4. + 0j, -9. + 5j, 13. + 0j]])\n",
    "\n",
    "def qr_decomi(A):\n",
    "    m, n = A.shape\n",
    "    Q = np.eye(m)\n",
    "    for i in range(n - (m == n)):\n",
    "        H = np.eye(m, dtype = complex)\n",
    "        H[i:, i:] = House(A[i:, i])\n",
    "        Q = Q @ H\n",
    "        A = H @ A\n",
    "    return Q, A\n",
    "\n",
    "def House(A):\n",
    "    e = np.zeros(A.shape[0], dtype = complex)\n",
    "    e[0] = 1\n",
    "    if (A[0] < 0):\n",
    "        norm = -(np.linalg.norm(A) * e[:, None])\n",
    "    else:\n",
    "        norm = np.linalg.norm(A) * e[:, None]\n",
    "    u = A[:, None] + norm\n",
    "    v = u / np.linalg.norm(u)\n",
    "    I = np.eye(A.shape[0], dtype = complex)\n",
    "    H = I - ((2 * np.matmul(u, np.transpose(u))) / np.matmul(np.transpose(u), u))\n",
    "    return H\n",
    "\n",
    "n = len(A)\n",
    "k = 0\n",
    "eps = 2e-8\n",
    "for i in range(n):\n",
    "    Q, R = qr_decomi(A)\n",
    "    A = R @ Q\n",
    "    while (np.linalg.det(A - A[i] * np.eye(A.shape[0])) > eps):\n",
    "        Q, R = qr_decomi(A)\n",
    "        A = R @ Q\n",
    "    k += 1\n",
    "    if (k == A.shape[0]): \n",
    "        break\n",
    "np.set_printoptions(precision = 3)\n",
    "print(np.diag(np.diag(A)))"
   ]
  },
  {
   "cell_type": "code",
   "execution_count": null,
   "id": "4bcf6a71",
   "metadata": {},
   "outputs": [],
   "source": []
  }
 ],
 "metadata": {
  "kernelspec": {
   "display_name": "Python 3 (ipykernel)",
   "language": "python",
   "name": "python3"
  },
  "language_info": {
   "codemirror_mode": {
    "name": "ipython",
    "version": 3
   },
   "file_extension": ".py",
   "mimetype": "text/x-python",
   "name": "python",
   "nbconvert_exporter": "python",
   "pygments_lexer": "ipython3",
   "version": "3.9.12"
  }
 },
 "nbformat": 4,
 "nbformat_minor": 5
}
